{
 "cells": [
  {
   "cell_type": "markdown",
   "metadata": {},
   "source": [
    "##lab7\n",
    "\n",
    "\n",
    "\n"
   ]
  },
  {
   "cell_type": "code",
   "execution_count": 5,
   "metadata": {},
   "outputs": [
    {
     "name": "stdout",
     "output_type": "stream",
     "text": [
      "input the number one: 234\n",
      "input the number two: 532\n",
      "The product is 124488\n"
     ]
    }
   ],
   "source": [
    "#q1\n",
    "def mul_Num(a,b):\n",
    "    multiply=a*b;\n",
    "    return multiply;\n",
    "num1=int(input(\"input the number one: \"))\n",
    "num2=int(input(\"input the number two: \"))\n",
    "print(\"The product is\",mul_Num(num1,num2))"
   ]
  },
  {
   "cell_type": "code",
   "execution_count": 6,
   "metadata": {},
   "outputs": [
    {
     "name": "stdout",
     "output_type": "stream",
     "text": [
      "input the number one: 12\n",
      "input the number two: 24567\n",
      "The sum is 24579\n"
     ]
    }
   ],
   "source": [
    "#q2\n",
    "def add_Num(a,b):\n",
    "    addition=a+b;\n",
    "    return addition;\n",
    "num1=int(input(\"input the number one: \"))\n",
    "num2=int(input(\"input the number two: \"))\n",
    "print(\"The sum is\",add_Num(num1,num2))"
   ]
  },
  {
   "cell_type": "code",
   "execution_count": 7,
   "metadata": {},
   "outputs": [
    {
     "name": "stdout",
     "output_type": "stream",
     "text": [
      "Input a number to compute the factorial : 20\n",
      "2432902008176640000\n"
     ]
    }
   ],
   "source": [
    "#q3\n",
    "def factorial(n):\n",
    "    if n==0:\n",
    "        return 1\n",
    "    else:\n",
    "        return n * factorial(n-1)\n",
    "n=int(input(\"Input a number to compute the factorial : \"))\n",
    "print(factorial(n))"
   ]
  },
  {
   "cell_type": "code",
   "execution_count": 8,
   "metadata": {},
   "outputs": [
    {
     "name": "stdout",
     "output_type": "stream",
     "text": [
      "Input the terms : 12\n",
      "Fibonacci sequence:\n",
      "0\n",
      "1\n",
      "1\n",
      "2\n",
      "3\n",
      "5\n",
      "8\n",
      "13\n",
      "21\n",
      "34\n",
      "55\n",
      "89\n"
     ]
    }
   ],
   "source": [
    "#q4\n",
    "def recur_fibo(n):\n",
    "    if n<=1:\n",
    "        return n\n",
    "    else:\n",
    "        return (recur_fibo(n-1) + recur_fibo(n-2))\n",
    "nterms=int(input(\"Input the terms : \"))\n",
    "if nterms <=0:\n",
    "    print(\"Please enter a positive integer\")\n",
    "else:\n",
    "    print(\"Fibonacci sequence:\")\n",
    "    for i in range(nterms):\n",
    "        print(recur_fibo(i))\n"
   ]
  },
  {
   "cell_type": "code",
   "execution_count": 9,
   "metadata": {},
   "outputs": [
    {
     "name": "stdout",
     "output_type": "stream",
     "text": [
      " Please Enter the First Value : 12\n",
      " Please Enter the Second Value : 5\n",
      "Before Swapping two Number: num1 = 12.0 and num2 = 5.0\n",
      "After Swapping two Number: num1 = 5.0 and num2 = 12.0\n"
     ]
    }
   ],
   "source": [
    "#q5\n",
    "def swap_numbers(a, b):\n",
    "    temp = a\n",
    "    a = b\n",
    "    b = temp\n",
    "    \n",
    "    print(\"After Swapping two Number: num1 = {0} and num2 = {1}\".format(a, b))\n",
    " \n",
    "num1 = float(input(\" Please Enter the First Value : \"))\n",
    "num2 = float(input(\" Please Enter the Second Value : \"))\n",
    "\n",
    "print(\"Before Swapping two Number: num1 = {0} and num2 = {1}\".format(num1, num2))\n",
    "swap_numbers(num1, num2)"
   ]
  },
  {
   "cell_type": "code",
   "execution_count": 12,
   "metadata": {},
   "outputs": [
    {
     "name": "stdout",
     "output_type": "stream",
     "text": [
      " Please Enter the num1 : 23\n",
      " Please Enter the num2 : 2\n",
      "The H.C.F is 1\n"
     ]
    }
   ],
   "source": [
    "#q6\n",
    "def compute_hcf(x,y):\n",
    "    \n",
    "    if x>y:\n",
    "        smaller=y\n",
    "    else:\n",
    "        smaller=x\n",
    "    for i in range(1, smaller+1):\n",
    "        if((x % i ==0) and (y  % i ==0)):\n",
    "            hcf = i\n",
    "        return hcf\n",
    "num1 = int(input(\" Please Enter the num1 : \"))\n",
    "num2 = int(input(\" Please Enter the num2 : \"))\n",
    "\n",
    "print(\"The H.C.F is\",compute_hcf(num1,num2))\n",
    "\n",
    "   \n"
   ]
  },
  {
   "cell_type": "code",
   "execution_count": 13,
   "metadata": {},
   "outputs": [
    {
     "name": "stdout",
     "output_type": "stream",
     "text": [
      " Please Enter the Alphabet : a\n",
      "The ASCII value of 'a' is 97\n"
     ]
    }
   ],
   "source": [
    "#q7\n",
    "c = (input(\" Please Enter the Alphabet : \")) \n",
    "print(\"The ASCII value of '\" + c + \"' is\", ord(c))"
   ]
  },
  {
   "cell_type": "code",
   "execution_count": 28,
   "metadata": {},
   "outputs": [
    {
     "name": "stdout",
     "output_type": "stream",
     "text": [
      "The value of square root of 7 : \n",
      "2.6457513110645907\n"
     ]
    }
   ],
   "source": [
    "#q8\n",
    "import math\n",
    "print(\"The value of square root of 7 : \")\n",
    "print (math.sqrt(7))"
   ]
  },
  {
   "cell_type": "code",
   "execution_count": 15,
   "metadata": {},
   "outputs": [
    {
     "name": "stdout",
     "output_type": "stream",
     "text": [
      "Present date is : 2020-03-30\n"
     ]
    }
   ],
   "source": [
    "#q9\n",
    "import datetime \n",
    "from datetime import date  \n",
    "print (\"Present date is : \",end=\"\") \n",
    "print (date.today())"
   ]
  },
  {
   "cell_type": "code",
   "execution_count": 20,
   "metadata": {},
   "outputs": [
    {
     "name": "stdout",
     "output_type": "stream",
     "text": [
      "corona is very dangerous\n",
      "but india can beat it\n"
     ]
    }
   ],
   "source": [
    "#q10\n",
    "def printme( str ):\n",
    "   \"This prints a passed string into this function\"\n",
    "   print(str)\n",
    "   return;\n",
    "printme(\"corona is very dangerous\")\n",
    "printme(\"but india can beat it\")"
   ]
  },
  {
   "cell_type": "code",
   "execution_count": 21,
   "metadata": {},
   "outputs": [
    {
     "name": "stdout",
     "output_type": "stream",
     "text": [
      "hirdyansh dudi\n",
      "topper ayesha \n"
     ]
    }
   ],
   "source": [
    "#q11\n",
    "def student(firstname, lastname):  \n",
    "     print(firstname, lastname)                     \n",
    "student(firstname ='hirdyansh', lastname ='dudi')     \n",
    "student(lastname ='ayesha ', firstname ='topper')"
   ]
  },
  {
   "cell_type": "code",
   "execution_count": 22,
   "metadata": {},
   "outputs": [
    {
     "name": "stdout",
     "output_type": "stream",
     "text": [
      "x:  10\n",
      "y:  50\n"
     ]
    }
   ],
   "source": [
    "#q12\n",
    "def myFun(x, y=50): \n",
    "    print(\"x: \", x) \n",
    "    print(\"y: \", y) \n",
    "myFun(10)"
   ]
  },
  {
   "cell_type": "code",
   "execution_count": 23,
   "metadata": {},
   "outputs": [
    {
     "name": "stdout",
     "output_type": "stream",
     "text": [
      "Hello\n",
      "Welcome\n",
      "to\n",
      "manav rachna university\n"
     ]
    }
   ],
   "source": [
    "#q13\n",
    "def myFun(*argv):  \n",
    "    for arg in argv:  \n",
    "        print (arg) \n",
    "    \n",
    "myFun('Hello', 'Welcome', 'to', 'manav rachna university')"
   ]
  },
  {
   "cell_type": "code",
   "execution_count": null,
   "metadata": {},
   "outputs": [],
   "source": []
  },
  {
   "cell_type": "code",
   "execution_count": null,
   "metadata": {},
   "outputs": [],
   "source": []
  },
  {
   "cell_type": "code",
   "execution_count": null,
   "metadata": {},
   "outputs": [],
   "source": []
  },
  {
   "cell_type": "code",
   "execution_count": null,
   "metadata": {},
   "outputs": [],
   "source": []
  },
  {
   "cell_type": "code",
   "execution_count": null,
   "metadata": {},
   "outputs": [],
   "source": []
  }
 ],
 "metadata": {
  "kernelspec": {
   "display_name": "Python 3",
   "language": "python",
   "name": "python3"
  },
  "language_info": {
   "codemirror_mode": {
    "name": "ipython",
    "version": 3
   },
   "file_extension": ".py",
   "mimetype": "text/x-python",
   "name": "python",
   "nbconvert_exporter": "python",
   "pygments_lexer": "ipython3",
   "version": "3.7.4"
  }
 },
 "nbformat": 4,
 "nbformat_minor": 2
}
