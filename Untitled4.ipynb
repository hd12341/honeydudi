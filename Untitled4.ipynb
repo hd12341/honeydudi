{
 "cells": [
  {
   "cell_type": "markdown",
   "metadata": {},
   "source": [
    "###lab10\n"
   ]
  },
  {
   "cell_type": "code",
   "execution_count": 26,
   "metadata": {},
   "outputs": [
    {
     "name": "stdout",
     "output_type": "stream",
     "text": [
      "Animals have four legs\n",
      "Animals have four legs\n"
     ]
    }
   ],
   "source": [
    "#q1\n",
    "class animal: \n",
    "    def legs(self):        \n",
    "        print(\"Animals have four legs\")  \n",
    "class tiger(animal):    \n",
    "    pass\n",
    "class dog(animal):      \n",
    "    animal().legs()\n",
    "tiger().legs()\n"
   ]
  },
  {
   "cell_type": "code",
   "execution_count": 67,
   "metadata": {},
   "outputs": [
    {
     "name": "stdout",
     "output_type": "stream",
     "text": [
      "I'm a employee\n",
      "None\n",
      "I'm a Manager\n",
      "None\n",
      "I'm a Engineer\n",
      "None\n"
     ]
    }
   ],
   "source": [
    "#q2\n",
    "class Employee():\n",
    "    name = \"employee\" \n",
    "    def printdesignation(self): \n",
    "     print(\"I'm a\",self.name)\n",
    "class Engineer(): \n",
    "    name = \"Engineer\" \n",
    "    def printdesignation(self): \n",
    "        print(\"I'm a\",self.name)\n",
    "class Manager(): \n",
    "    name = \"Manager\" \n",
    "    def printdesignation(self): \n",
    "        print(\"I'm a\",self.name)\n",
    "com_1 = Employee() \n",
    "print(com_1.printdesignation()) \n",
    "com_2 =Manager() \n",
    "print(com_2.printdesignation()) \n",
    "com_3 = Engineer()\n",
    "print(com_3.printdesignation())\n"
   ]
  },
  {
   "cell_type": "code",
   "execution_count": 123,
   "metadata": {},
   "outputs": [
    {
     "ename": "IndentationError",
     "evalue": "expected an indented block (<ipython-input-123-de4eefed6f91>, line 6)",
     "output_type": "error",
     "traceback": [
      "\u001b[1;36m  File \u001b[1;32m\"<ipython-input-123-de4eefed6f91>\"\u001b[1;36m, line \u001b[1;32m6\u001b[0m\n\u001b[1;33m    print(\"I'm a\", self.attr1)\u001b[0m\n\u001b[1;37m        ^\u001b[0m\n\u001b[1;31mIndentationError\u001b[0m\u001b[1;31m:\u001b[0m expected an indented block\n"
     ]
    }
   ],
   "source": [
    "#q3\n",
    "class Dog: \n",
    "    attr1 = \"mamal\" \n",
    "    attr2 = \"dog\"\n",
    "def fun(self):\n",
    "print(\"I'm a\", self.attr1) \n",
    "print(\"I'm a\", self.attr2) \n",
    "Rodger = Dog() \n",
    "print(Rodger.attr1, Rodger.attr2) \n",
    "print(Rodger.fun())"
   ]
  },
  {
   "cell_type": "code",
   "execution_count": 105,
   "metadata": {},
   "outputs": [
    {
     "name": "stdout",
     "output_type": "stream",
     "text": [
      " child statment \n",
      "Parent 2 statment \n"
     ]
    }
   ],
   "source": [
    "#q4:\n",
    "class Parent1(): \n",
    "    def show(self): \n",
    "        print(\"Parent 1 statement \") \n",
    "class Parent2(): \n",
    "    def display(self): \n",
    "        print(\"Parent 2 statment \") \n",
    "class Child(Parent1, Parent2): \n",
    "    def show(self): \n",
    "        print(\" child statment \")\n",
    "obj = Child() \n",
    "obj.show() \n",
    "obj.display()"
   ]
  },
  {
   "cell_type": "code",
   "execution_count": 110,
   "metadata": {},
   "outputs": [
    {
     "name": "stdout",
     "output_type": "stream",
     "text": [
      "gym trainer\n",
      "honey\n",
      "always rock\n",
      "hirdyansh\n"
     ]
    }
   ],
   "source": [
    "#q5\n",
    "class Class1:\n",
    "    def m(self):\n",
    "        print(\"hirdyansh\")\n",
    "\n",
    "class Class2(Class1):\n",
    "    def m(self):\n",
    "        print(\"honey\")\n",
    "\n",
    "class Class3(Class1):\n",
    "    def m(self):\n",
    "        print(\"always rock\")\n",
    "\n",
    "\n",
    "class Class4(Class2, Class3): \n",
    "    def m(self): \n",
    "        print(\"gym trainer\")\n",
    "obj = Class4()\n",
    "obj.m() \n",
    "Class2.m(obj) \n",
    "Class3.m(obj)\n",
    "Class1.m(obj)"
   ]
  },
  {
   "cell_type": "code",
   "execution_count": null,
   "metadata": {},
   "outputs": [],
   "source": []
  }
 ],
 "metadata": {
  "kernelspec": {
   "display_name": "Python 3",
   "language": "python",
   "name": "python3"
  },
  "language_info": {
   "codemirror_mode": {
    "name": "ipython",
    "version": 3
   },
   "file_extension": ".py",
   "mimetype": "text/x-python",
   "name": "python",
   "nbconvert_exporter": "python",
   "pygments_lexer": "ipython3",
   "version": "3.7.4"
  }
 },
 "nbformat": 4,
 "nbformat_minor": 2
}
