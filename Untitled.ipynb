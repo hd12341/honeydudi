{
 "cells": [
  {
   "cell_type": "markdown",
   "metadata": {},
   "source": [
    "### lab4"
   ]
  },
  {
   "cell_type": "code",
   "execution_count": 1,
   "metadata": {},
   "outputs": [
    {
     "name": "stdout",
     "output_type": "stream",
     "text": [
      "(1, 2, 3)\n"
     ]
    }
   ],
   "source": [
    "#lab4q1\n",
    "tuple1=(1,2,3)\n",
    "print(tuple1)\n"
   ]
  },
  {
   "cell_type": "code",
   "execution_count": 3,
   "metadata": {},
   "outputs": [
    {
     "name": "stdout",
     "output_type": "stream",
     "text": [
      "(1, 'h', 'honey')\n"
     ]
    }
   ],
   "source": [
    "#lab4q2\n",
    "tuple2=(1,\"h\",\"honey\")\n",
    "print(tuple2)"
   ]
  },
  {
   "cell_type": "code",
   "execution_count": 5,
   "metadata": {},
   "outputs": [
    {
     "name": "stdout",
     "output_type": "stream",
     "text": [
      "2\n"
     ]
    }
   ],
   "source": [
    "#lab4q3\n",
    "tuple3=(1,2,3,4)\n",
    "print(tuple3[1])\n"
   ]
  },
  {
   "cell_type": "code",
   "execution_count": 8,
   "metadata": {},
   "outputs": [
    {
     "name": "stdout",
     "output_type": "stream",
     "text": [
      "Tuple before unpacking:  (1, 2, 3, 4)\n",
      "Tuple after unpacking:  1 2 3 [4]\n"
     ]
    }
   ],
   "source": [
    "#lab4q4\n",
    "print('Tuple before unpacking: ', tuple3)\n",
    "v1,v2,v3 , *v4 = tuple3\n",
    "print('Tuple after unpacking: ', v1,v2,v3,v4)"
   ]
  },
  {
   "cell_type": "code",
   "execution_count": 9,
   "metadata": {},
   "outputs": [
    {
     "name": "stdout",
     "output_type": "stream",
     "text": [
      "modified tuple:  (1, 2, 3, 5)\n"
     ]
    }
   ],
   "source": [
    "#lab4q5\n",
    "tuple1=(1,2,3)\n",
    "tuple1=tuple1+(5,)\n",
    "print('modified tuple: ',tuple1)"
   ]
  },
  {
   "cell_type": "code",
   "execution_count": 13,
   "metadata": {},
   "outputs": [
    {
     "data": {
      "text/plain": [
       "'hello friends'"
      ]
     },
     "execution_count": 13,
     "metadata": {},
     "output_type": "execute_result"
    }
   ],
   "source": [
    "#lab4q6\n",
    "tuple4=(\"hello\",   \"friends\")\n",
    "str2=\" \"\n",
    "str2=str2.join(tuple4)\n",
    "str2"
   ]
  },
  {
   "cell_type": "code",
   "execution_count": 14,
   "metadata": {},
   "outputs": [
    {
     "name": "stdout",
     "output_type": "stream",
     "text": [
      "5 7\n"
     ]
    }
   ],
   "source": [
    "#lab4q7\n",
    "tuple5=(1,2,3,4,5,6,7,8,9,10)\n",
    "print(tuple5[4],tuple5[-4])"
   ]
  },
  {
   "cell_type": "code",
   "execution_count": null,
   "metadata": {},
   "outputs": [],
   "source": []
  }
 ],
 "metadata": {
  "kernelspec": {
   "display_name": "Python 3",
   "language": "python",
   "name": "python3"
  },
  "language_info": {
   "codemirror_mode": {
    "name": "ipython",
    "version": 3
   },
   "file_extension": ".py",
   "mimetype": "text/x-python",
   "name": "python",
   "nbconvert_exporter": "python",
   "pygments_lexer": "ipython3",
   "version": "3.7.4"
  }
 },
 "nbformat": 4,
 "nbformat_minor": 2
}
