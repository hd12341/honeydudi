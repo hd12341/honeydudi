{
 "cells": [
  {
   "cell_type": "markdown",
   "metadata": {},
   "source": [
    "## pt2"
   ]
  },
  {
   "cell_type": "code",
   "execution_count": 1,
   "metadata": {},
   "outputs": [
    {
     "name": "stdout",
     "output_type": "stream",
     "text": [
      "0\n",
      "1\n",
      "2\n",
      "3\n"
     ]
    }
   ],
   "source": [
    "#vivaquestions\n",
    "#comment1(a)\n",
    "list2=[1,2,3,4]\n",
    "for I in range(0,4):\n",
    "    print(I)\n",
    "\n",
    "\n",
    "\n",
    "\n"
   ]
  },
  {
   "cell_type": "code",
   "execution_count": 2,
   "metadata": {},
   "outputs": [
    {
     "name": "stdout",
     "output_type": "stream",
     "text": [
      "1\n",
      "2\n",
      "3\n",
      "4\n"
     ]
    }
   ],
   "source": [
    "#comment1(b)\n",
    "for  I in list2:\n",
    "    print(I)"
   ]
  },
  {
   "cell_type": "code",
   "execution_count": 6,
   "metadata": {},
   "outputs": [
    {
     "name": "stdout",
     "output_type": "stream",
     "text": [
      "honey\n"
     ]
    }
   ],
   "source": [
    "# comment2:-\n",
    "word = 'honey'\n",
    "print(word[ :3] + word[3: ])"
   ]
  },
  {
   "cell_type": "code",
   "execution_count": 7,
   "metadata": {},
   "outputs": [
    {
     "name": "stdout",
     "output_type": "stream",
     "text": [
      "covid-19 is dangerous disease\n"
     ]
    }
   ],
   "source": [
    "# comment3: \n",
    "mylist = [\"covid-19\",\"is\",\"dangerous\",\"disease\"]\n",
    "print(\" \".join(mylist))\n"
   ]
  },
  {
   "cell_type": "code",
   "execution_count": 8,
   "metadata": {},
   "outputs": [
    {
     "name": "stdout",
     "output_type": "stream",
     "text": [
      "primes are : [1, 2, 11, 5, 31]\n",
      "even: [2, 28, 116]\n",
      "odd: [1, 11, 5, 31]\n",
      "positive: [1, 2, 11, 5, 28, 31, 116]\n",
      "negative: []\n",
      "zeroes: []\n"
     ]
    }
   ],
   "source": [
    "#programming questions\n",
    "#q1\n",
    "#ques1\n",
    "list1=[1,2,11,5,28,31,116]\n",
    "prime=[]\n",
    "evens=[]\n",
    "odds=[]\n",
    "positive=[]\n",
    "negative=[]\n",
    "zeroes=[]\n",
    "\n",
    "for i in list1:\n",
    "    isprime = True\n",
    "    for num in range(2,i):\n",
    "        if i % num == 0:\n",
    "            isprime = False\n",
    "            \n",
    "    if  isprime:\n",
    "        prime.append(i)\n",
    "    \n",
    "    if(i%2==0):\n",
    "        evens.append(i)\n",
    "    else:\n",
    "        odds.append(i)\n",
    "    if(i>0):\n",
    "        positive.append(i)\n",
    "    elif(i==0):\n",
    "        zeroes.append(i)\n",
    "    else:\n",
    "        negative.append(i)\n",
    "        \n",
    "#ques1(a)part\n",
    "print(\"primes are :\",prime)\n",
    "print(\"even:\",evens)\n",
    "print(\"odd:\",odds)\n",
    "print(\"positive:\",positive)\n",
    "print(\"negative:\",negative)\n",
    "print(\"zeroes:\",zeroes)\n",
    "\n"
   ]
  },
  {
   "cell_type": "code",
   "execution_count": 9,
   "metadata": {},
   "outputs": [
    {
     "data": {
      "text/plain": [
       "[1, 2, 11, 5, 28, 31, 116, 2, 28, 116, 1, 11, 5, 31, 1, 2, 11, 5, 31]"
      ]
     },
     "execution_count": 9,
     "metadata": {},
     "output_type": "execute_result"
    }
   ],
   "source": [
    "\n",
    "##ques1(b)part\n",
    "final_list=zeroes+positive+evens+negative+odds+prime\n",
    "final_list\n"
   ]
  },
  {
   "cell_type": "code",
   "execution_count": 10,
   "metadata": {},
   "outputs": [
    {
     "name": "stdout",
     "output_type": "stream",
     "text": [
      "[116, 31, 31, 31, 28, 28, 11, 11, 11, 5, 5, 5, 2, 2, 2, 1, 1, 1, 116]\n"
     ]
    }
   ],
   "source": [
    "\n",
    "##ques1(c)part\n",
    "def bubblesort(arr):\n",
    "    n =len(arr)\n",
    "    \n",
    "    for i in range(n):\n",
    "        \n",
    "        for j in range(0,n-i-1):\n",
    "            if arr[j]>arr[j-1]:\n",
    "                arr[j],arr[j-1]= arr[j-1],arr[j]\n",
    "bubblesort(final_list)\n",
    "\n",
    "print(final_list)"
   ]
  },
  {
   "cell_type": "code",
   "execution_count": null,
   "metadata": {},
   "outputs": [],
   "source": []
  }
 ],
 "metadata": {
  "kernelspec": {
   "display_name": "Python 3",
   "language": "python",
   "name": "python3"
  },
  "language_info": {
   "codemirror_mode": {
    "name": "ipython",
    "version": 3
   },
   "file_extension": ".py",
   "mimetype": "text/x-python",
   "name": "python",
   "nbconvert_exporter": "python",
   "pygments_lexer": "ipython3",
   "version": "3.7.4"
  }
 },
 "nbformat": 4,
 "nbformat_minor": 2
}
