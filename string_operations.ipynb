{
 "cells": [
  {
   "cell_type": "markdown",
   "metadata": {},
   "source": [
    "### lab3"
   ]
  },
  {
   "cell_type": "code",
   "execution_count": 1,
   "metadata": {},
   "outputs": [
    {
     "name": "stdout",
     "output_type": "stream",
     "text": [
      "Enter a string:hirdyansh dudi\n",
      "Lenght of input string is: 14\n"
     ]
    }
   ],
   "source": [
    "#lab3q5\n",
    "string =input(\"Enter a string:\")\n",
    "count=0\n",
    "for i in string:\n",
    "    count=count+1\n",
    "print(\"Lenght of input string is:\",count)"
   ]
  },
  {
   "cell_type": "code",
   "execution_count": 3,
   "metadata": {},
   "outputs": [
    {
     "name": "stdout",
     "output_type": "stream",
     "text": [
      "Enter a string :honey singh\n",
      "Total no of characters:  1\n",
      "Total no of characters:  2\n",
      "Total no of characters:  3\n",
      "Total no of characters:  4\n",
      "Total no of characters:  5\n",
      "Total no of characters:  5\n",
      "Total no of characters:  6\n",
      "Total no of characters:  7\n",
      "Total no of characters:  8\n",
      "Total no of characters:  9\n",
      "Total no of characters:  10\n"
     ]
    }
   ],
   "source": [
    "#lab3q6\n",
    "string = input(\"Enter a string :\")\n",
    "count =0\n",
    "for c in string :\n",
    "    if c.isspace() != True:\n",
    "        count = count +1\n",
    "    print(\"Total no of characters: \",count)\n"
   ]
  },
  {
   "cell_type": "code",
   "execution_count": 5,
   "metadata": {},
   "outputs": [
    {
     "name": "stdout",
     "output_type": "stream",
     "text": [
      "hish\n"
     ]
    }
   ],
   "source": [
    "#lab3q7\n",
    "string =\"hirdyansh\"\n",
    "length=len(string)\n",
    "if length>2:\n",
    "    print(string[0:2]+string[-2: ])\n",
    "else:\n",
    "    print(\"length os string is less than 2\")"
   ]
  },
  {
   "cell_type": "code",
   "execution_count": 7,
   "metadata": {},
   "outputs": [
    {
     "name": "stdout",
     "output_type": "stream",
     "text": [
      "bar$eque has great coupon for students\n"
     ]
    }
   ],
   "source": [
    "#lab3q8\n",
    "string1 = \"barbeque has great coupon for students\"\n",
    "var1 = string1[0]\n",
    "string2 = string1.replace(var1,'$')\n",
    "print(var1 + string2[1:])"
   ]
  },
  {
   "cell_type": "code",
   "execution_count": null,
   "metadata": {},
   "outputs": [],
   "source": []
  }
 ],
 "metadata": {
  "kernelspec": {
   "display_name": "Python 3",
   "language": "python",
   "name": "python3"
  },
  "language_info": {
   "codemirror_mode": {
    "name": "ipython",
    "version": 3
   },
   "file_extension": ".py",
   "mimetype": "text/x-python",
   "name": "python",
   "nbconvert_exporter": "python",
   "pygments_lexer": "ipython3",
   "version": "3.7.4"
  }
 },
 "nbformat": 4,
 "nbformat_minor": 2
}
