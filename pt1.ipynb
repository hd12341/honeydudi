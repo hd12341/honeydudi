{
 "cells": [
  {
   "cell_type": "markdown",
   "metadata": {},
   "source": [
    "###pt1\n"
   ]
  },
  {
   "cell_type": "code",
   "execution_count": 37,
   "metadata": {},
   "outputs": [
    {
     "name": "stdout",
     "output_type": "stream",
     "text": [
      "Select operation\n",
      "1.add\n",
      "2.sub\n",
      "3.multiply\n",
      "4.divide\n",
      "5.squareroot\n",
      "Enter choice(1/2/3/4/5) : 5\n",
      "Enter first number :9\n",
      "Enter second number : 2\n",
      "9.0 ** = 3.0\n"
     ]
    }
   ],
   "source": [
    "def add(x,y) :\n",
    "    return x + y\n",
    "def sub(x,y) :\n",
    "    return x - y\n",
    "def multiply(x,y) :\n",
    "    return x * y\n",
    "def divide(x,y) :\n",
    "    return x / y\n",
    "def squareroot(x) :\n",
    "    return x ** 0.5\n",
    "print(\"Select operation\")\n",
    "print(\"1.add\")\n",
    "print(\"2.sub\")\n",
    "print(\"3.multiply\")\n",
    "print(\"4.divide\")\n",
    "print(\"5.squareroot\")\n",
    "choice=input(\"Enter choice(1/2/3/4/5) : \")\n",
    "num1=float(input(\"Enter first number :\"))\n",
    "num2=float(input(\"Enter second number : \"))\n",
    "if choice=='1' :\n",
    "    print(num1,\"+\",num2,\"=\",add(num1,num2))\n",
    "elif choice=='2':\n",
    "        print(num1,\"-\",num2,\"=\",sub(num1,num2))\n",
    "elif choice=='3' :\n",
    "        print(num1,\"*\",num2,\"=\",multiply(num1,num2))\n",
    "elif choice== '4' :\n",
    "        print(num1,\"/\",num2,\"=\",divide(num1,num2))\n",
    "elif choice== '5' :\n",
    "        print(num1,\"**\",\"=\",squareroot(num1))   \n",
    "else :\n",
    "        print(\"Invalid input\")\n",
    "    "
   ]
  },
  {
   "cell_type": "code",
   "execution_count": 35,
   "metadata": {},
   "outputs": [
    {
     "name": "stdout",
     "output_type": "stream",
     "text": [
      " $y @cooter@ are $ade of @teel\n"
     ]
    }
   ],
   "source": [
    "#pt1q2\n",
    "string =\"my scooters are made of steel\"\n",
    "result = ' '\n",
    "for i in string:\n",
    "    if i == 'm':\n",
    "        i= '$'\n",
    "    elif i == 's':\n",
    "        i = '@'\n",
    "    result +=i\n",
    "print(result)"
   ]
  },
  {
   "cell_type": "code",
   "execution_count": 39,
   "metadata": {},
   "outputs": [
    {
     "name": "stdout",
     "output_type": "stream",
     "text": [
      "Enter the word: r\n",
      "the word is consonent\n"
     ]
    }
   ],
   "source": [
    "word = ('a' ,'e','i','o','u')\n",
    "take =str(input(\"Enter the word: \"))\n",
    "if take.lower() in word:\n",
    "    print(\"the word is vowel\")\n",
    "else:\n",
    "    print(\"the word is consonent\")\n",
    "    "
   ]
  },
  {
   "cell_type": "code",
   "execution_count": null,
   "metadata": {},
   "outputs": [],
   "source": []
  }
 ],
 "metadata": {
  "kernelspec": {
   "display_name": "Python 3",
   "language": "python",
   "name": "python3"
  },
  "language_info": {
   "codemirror_mode": {
    "name": "ipython",
    "version": 3
   },
   "file_extension": ".py",
   "mimetype": "text/x-python",
   "name": "python",
   "nbconvert_exporter": "python",
   "pygments_lexer": "ipython3",
   "version": "3.7.4"
  }
 },
 "nbformat": 4,
 "nbformat_minor": 2
}
